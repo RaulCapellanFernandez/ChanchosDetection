{
 "cells": [
  {
   "cell_type": "code",
   "execution_count": null,
   "id": "ee05b335-23d0-441e-b41b-bcd6696529c9",
   "metadata": {},
   "outputs": [],
   "source": [
    "import os, glob\n",
    "import xml.etree.ElementTree as ET\n",
    "import yaml\n",
    "import pandas as pd\n",
    "import xml.etree.ElementTree as ET"
   ]
  },
  {
   "cell_type": "code",
   "execution_count": null,
   "id": "73021f36-397c-4cd2-8eef-25a5165cff4f",
   "metadata": {},
   "outputs": [],
   "source": [
    "path_images = '../../data/dataset/voc/trainning/images'\n",
    "path_labels = '../../data/dataset/chanchos/trainning/labels'\n",
    "\n",
    "files_image = glob.glob(os.path.join(path_images, '*.jpg'))\n",
    "files_label = glob.glob(os.path.join(path_labels, '*.xml'))\n",
    " \n",
    "df_pos   = pd.read_csv('../../data/dataset/labels.csv')"
   ]
  },
  {
   "cell_type": "code",
   "execution_count": null,
   "id": "06859412-5e5a-4eb4-9803-74fb3a87829c",
   "metadata": {},
   "outputs": [],
   "source": [
    "for file in files_label:\n",
    "    tree = ET.parse(file)\n",
    "    root = tree.getroot()\n",
    "\n",
    "    file_name = root.find('filename').text\n",
    "\n",
    "    lista_result = list()\n",
    "    for obj in root.findall('.//object'):\n",
    "        name = obj.find('name').text\n",
    "        name_num = df_pos[df_pos['Position'] == name].iloc[0][1]\n",
    "        \n",
    "        xmin = int(obj.find('.//bndbox/xmin').text)\n",
    "        xmax = int(obj.find('.//bndbox/xmax').text)\n",
    "        ymin = int(obj.find('.//bndbox/ymin').text)\n",
    "        ymax = int(obj.find('.//bndbox/ymax').text)\n",
    "\n",
    "        lista_result.append({\n",
    "            # 'Name'    : file_name,\n",
    "            'Position': name_num,\n",
    "            'Xmin'    : xmin,\n",
    "            'Xmax'    : xmax,\n",
    "            'Ymin'    : ymin,\n",
    "            'Ymax'    : ymax,\n",
    "        })\n",
    "    df = pd.DataFrame(lista_result)\n",
    "\n",
    "    path_aux = os.path.join(path_labels, 'txt')\n",
    "    if os.path.isdir(path_aux) == False:\n",
    "        os.makedirs(path_aux)\n",
    "\n",
    "\n",
    "    out_file = ''.join((os.path.splitext(file_name)[0], '.txt'))\n",
    "    out_file = os.path.join(path_aux, out_file)\n",
    "    df.to_csv(out_file, sep=' ', header=False, index=False)\n"
   ]
  }
 ],
 "metadata": {
  "kernelspec": {
   "display_name": "Python 3 (ipykernel)",
   "language": "python",
   "name": "python3"
  },
  "language_info": {
   "codemirror_mode": {
    "name": "ipython",
    "version": 3
   },
   "file_extension": ".py",
   "mimetype": "text/x-python",
   "name": "python",
   "nbconvert_exporter": "python",
   "pygments_lexer": "ipython3",
   "version": "3.11.4"
  }
 },
 "nbformat": 4,
 "nbformat_minor": 5
}
