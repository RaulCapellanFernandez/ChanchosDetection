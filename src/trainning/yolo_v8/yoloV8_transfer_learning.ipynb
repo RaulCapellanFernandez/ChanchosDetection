{
 "cells": [
  {
   "cell_type": "code",
   "execution_count": 1,
   "id": "00b18035-501a-47a5-a6ab-aae7e67ca9c4",
   "metadata": {
    "tags": []
   },
   "outputs": [],
   "source": [
    "import os\n",
    "import torch\n",
    "import torch.optim as optim\n",
    "from ultralytics.models import YOLO"
   ]
  },
  {
   "cell_type": "code",
   "execution_count": 6,
   "id": "05ab401a-4b01-4ade-a34d-723b0c9e92a9",
   "metadata": {},
   "outputs": [],
   "source": [
    "# Load the model\n",
    "path_pretrained_model = '../../../data/models/original/yolov8x.pt'\n",
    "# path_yaml             = '../../../data/dataset/yml/output_dataset.yaml'\n",
    "path_yaml             = '../../../dataset/chanchos/yml/chanchos.yaml'\n",
    "\n",
    "model = YOLO(path_pretrained_model)"
   ]
  },
  {
   "cell_type": "code",
   "execution_count": 9,
   "id": "01c74f75-9baf-478c-b1d2-5970b541b3b7",
   "metadata": {
    "tags": []
   },
   "outputs": [
    {
     "name": "stderr",
     "output_type": "stream",
     "text": [
      "New https://pypi.org/project/ultralytics/8.0.208 available  Update with 'pip install -U ultralytics'\n",
      "Ultralytics YOLOv8.0.169  Python-3.11.4 torch-2.0.1+cpu CPU (11th Gen Intel Core(TM) i7-1165G7 2.80GHz)\n",
      "\u001b[34m\u001b[1mengine\\trainer: \u001b[0mtask=detect, mode=train, model=../../../data/models/original/yolov8x.pt, data=../../../dataset/chanchos/yml/chanchos.yaml, epochs=3, patience=50, batch=16, imgsz=640, save=True, save_period=-1, cache=False, device=None, workers=8, project=None, name=None, exist_ok=False, pretrained=True, optimizer=auto, verbose=True, seed=0, deterministic=True, single_cls=False, rect=False, cos_lr=False, close_mosaic=10, resume=False, amp=True, fraction=1.0, profile=False, freeze=None, overlap_mask=True, mask_ratio=4, dropout=0.0, val=True, split=val, save_json=False, save_hybrid=False, conf=None, iou=0.7, max_det=300, half=False, dnn=False, plots=True, source=None, show=False, save_txt=False, save_conf=False, save_crop=False, show_labels=True, show_conf=True, vid_stride=1, stream_buffer=False, line_width=None, visualize=False, augment=False, agnostic_nms=False, classes=None, retina_masks=False, boxes=True, format=torchscript, keras=False, optimize=False, int8=False, dynamic=False, simplify=False, opset=None, workspace=4, nms=False, lr0=0.01, lrf=0.01, momentum=0.937, weight_decay=0.0005, warmup_epochs=3.0, warmup_momentum=0.8, warmup_bias_lr=0.1, box=7.5, cls=0.5, dfl=1.5, pose=12.0, kobj=1.0, label_smoothing=0.0, nbs=64, hsv_h=0.015, hsv_s=0.7, hsv_v=0.4, degrees=0.0, translate=0.1, scale=0.5, shear=0.0, perspective=0.0, flipud=0.0, fliplr=0.5, mosaic=1.0, mixup=0.0, copy_paste=0.0, cfg=None, tracker=botsort.yaml, save_dir=runs\\detect\\train13\n"
     ]
    },
    {
     "ename": "RuntimeError",
     "evalue": "Dataset '../../../dataset/chanchos/yml/chanchos.yaml' error  \nDataset '../../../dataset/chanchos/yml/chanchos.yaml' images not found , missing path 'C:\\Users\\Cp\\Documents\\GitHub\\ChanchosDetection\\dataset\\chanchos\\dataset_for_head_and_rear_detection\\augmented\\annotated_ultralytics\\test_05.txt\\val_15.txt'\nNote dataset download directory is 'C:\\Users\\Cp\\Documents\\GitHub\\ChanchosDetection\\datasets'. You can update this in 'C:\\Users\\Cp\\AppData\\Roaming\\Ultralytics\\settings.yaml'",
     "output_type": "error",
     "traceback": [
      "\u001b[1;31m---------------------------------------------------------------------------\u001b[0m",
      "\u001b[1;31mFileNotFoundError\u001b[0m                         Traceback (most recent call last)",
      "File \u001b[1;32mc:\\Users\\Cp\\anaconda3\\envs\\chanchos\\Lib\\site-packages\\ultralytics\\engine\\trainer.py:118\u001b[0m, in \u001b[0;36mBaseTrainer.__init__\u001b[1;34m(self, cfg, overrides, _callbacks)\u001b[0m\n\u001b[0;32m    117\u001b[0m \u001b[39melif\u001b[39;00m \u001b[39mself\u001b[39m\u001b[39m.\u001b[39margs\u001b[39m.\u001b[39mdata\u001b[39m.\u001b[39msplit(\u001b[39m'\u001b[39m\u001b[39m.\u001b[39m\u001b[39m'\u001b[39m)[\u001b[39m-\u001b[39m\u001b[39m1\u001b[39m] \u001b[39min\u001b[39;00m (\u001b[39m'\u001b[39m\u001b[39myaml\u001b[39m\u001b[39m'\u001b[39m, \u001b[39m'\u001b[39m\u001b[39myml\u001b[39m\u001b[39m'\u001b[39m) \u001b[39mor\u001b[39;00m \u001b[39mself\u001b[39m\u001b[39m.\u001b[39margs\u001b[39m.\u001b[39mtask \u001b[39min\u001b[39;00m (\u001b[39m'\u001b[39m\u001b[39mdetect\u001b[39m\u001b[39m'\u001b[39m, \u001b[39m'\u001b[39m\u001b[39msegment\u001b[39m\u001b[39m'\u001b[39m, \u001b[39m'\u001b[39m\u001b[39mpose\u001b[39m\u001b[39m'\u001b[39m):\n\u001b[1;32m--> 118\u001b[0m     \u001b[39mself\u001b[39m\u001b[39m.\u001b[39mdata \u001b[39m=\u001b[39m check_det_dataset(\u001b[39mself\u001b[39;49m\u001b[39m.\u001b[39;49margs\u001b[39m.\u001b[39;49mdata)\n\u001b[0;32m    119\u001b[0m     \u001b[39mif\u001b[39;00m \u001b[39m'\u001b[39m\u001b[39myaml_file\u001b[39m\u001b[39m'\u001b[39m \u001b[39min\u001b[39;00m \u001b[39mself\u001b[39m\u001b[39m.\u001b[39mdata:\n",
      "File \u001b[1;32mc:\\Users\\Cp\\anaconda3\\envs\\chanchos\\Lib\\site-packages\\ultralytics\\data\\utils.py:302\u001b[0m, in \u001b[0;36mcheck_det_dataset\u001b[1;34m(dataset, autodownload)\u001b[0m\n\u001b[0;32m    301\u001b[0m     m \u001b[39m+\u001b[39m\u001b[39m=\u001b[39m \u001b[39mf\u001b[39m\u001b[39m\"\u001b[39m\u001b[39m\\n\u001b[39;00m\u001b[39mNote dataset download directory is \u001b[39m\u001b[39m'\u001b[39m\u001b[39m{\u001b[39;00mDATASETS_DIR\u001b[39m}\u001b[39;00m\u001b[39m'\u001b[39m\u001b[39m. You can update this in \u001b[39m\u001b[39m'\u001b[39m\u001b[39m{\u001b[39;00mSETTINGS_YAML\u001b[39m}\u001b[39;00m\u001b[39m'\u001b[39m\u001b[39m\"\u001b[39m\n\u001b[1;32m--> 302\u001b[0m     \u001b[39mraise\u001b[39;00m \u001b[39mFileNotFoundError\u001b[39;00m(m)\n\u001b[0;32m    303\u001b[0m t \u001b[39m=\u001b[39m time\u001b[39m.\u001b[39mtime()\n",
      "\u001b[1;31mFileNotFoundError\u001b[0m: \nDataset '../../../dataset/chanchos/yml/chanchos.yaml' images not found ⚠️, missing path 'C:\\Users\\Cp\\Documents\\GitHub\\ChanchosDetection\\dataset\\chanchos\\dataset_for_head_and_rear_detection\\augmented\\annotated_ultralytics\\test_05.txt\\val_15.txt'\nNote dataset download directory is 'C:\\Users\\Cp\\Documents\\GitHub\\ChanchosDetection\\datasets'. You can update this in 'C:\\Users\\Cp\\AppData\\Roaming\\Ultralytics\\settings.yaml'",
      "\nThe above exception was the direct cause of the following exception:\n",
      "\u001b[1;31mRuntimeError\u001b[0m                              Traceback (most recent call last)",
      "\u001b[1;32mc:\\Users\\Cp\\Documents\\GitHub\\ChanchosDetection\\src\\trainning\\yolo_v8\\yoloV8_transfer_learning.ipynb Cell 3\u001b[0m line \u001b[0;36m1\n\u001b[1;32m----> <a href='vscode-notebook-cell:/c%3A/Users/Cp/Documents/GitHub/ChanchosDetection/src/trainning/yolo_v8/yoloV8_transfer_learning.ipynb#W2sZmlsZQ%3D%3D?line=0'>1</a>\u001b[0m model\u001b[39m.\u001b[39;49mtrain(data\u001b[39m=\u001b[39;49mpath_yaml, epochs\u001b[39m=\u001b[39;49m\u001b[39m3\u001b[39;49m)\n",
      "File \u001b[1;32mc:\\Users\\Cp\\anaconda3\\envs\\chanchos\\Lib\\site-packages\\ultralytics\\engine\\model.py:336\u001b[0m, in \u001b[0;36mModel.train\u001b[1;34m(self, trainer, **kwargs)\u001b[0m\n\u001b[0;32m    333\u001b[0m \u001b[39mif\u001b[39;00m args\u001b[39m.\u001b[39mget(\u001b[39m'\u001b[39m\u001b[39mresume\u001b[39m\u001b[39m'\u001b[39m):\n\u001b[0;32m    334\u001b[0m     args[\u001b[39m'\u001b[39m\u001b[39mresume\u001b[39m\u001b[39m'\u001b[39m] \u001b[39m=\u001b[39m \u001b[39mself\u001b[39m\u001b[39m.\u001b[39mckpt_path\n\u001b[1;32m--> 336\u001b[0m \u001b[39mself\u001b[39m\u001b[39m.\u001b[39mtrainer \u001b[39m=\u001b[39m (trainer \u001b[39mor\u001b[39;49;00m \u001b[39mself\u001b[39;49m\u001b[39m.\u001b[39;49msmart_load(\u001b[39m'\u001b[39;49m\u001b[39mtrainer\u001b[39;49m\u001b[39m'\u001b[39;49m))(overrides\u001b[39m=\u001b[39;49margs, _callbacks\u001b[39m=\u001b[39;49m\u001b[39mself\u001b[39;49m\u001b[39m.\u001b[39;49mcallbacks)\n\u001b[0;32m    337\u001b[0m \u001b[39mif\u001b[39;00m \u001b[39mnot\u001b[39;00m args\u001b[39m.\u001b[39mget(\u001b[39m'\u001b[39m\u001b[39mresume\u001b[39m\u001b[39m'\u001b[39m):  \u001b[39m# manually set model only if not resuming\u001b[39;00m\n\u001b[0;32m    338\u001b[0m     \u001b[39mself\u001b[39m\u001b[39m.\u001b[39mtrainer\u001b[39m.\u001b[39mmodel \u001b[39m=\u001b[39m \u001b[39mself\u001b[39m\u001b[39m.\u001b[39mtrainer\u001b[39m.\u001b[39mget_model(weights\u001b[39m=\u001b[39m\u001b[39mself\u001b[39m\u001b[39m.\u001b[39mmodel \u001b[39mif\u001b[39;00m \u001b[39mself\u001b[39m\u001b[39m.\u001b[39mckpt \u001b[39melse\u001b[39;00m \u001b[39mNone\u001b[39;00m, cfg\u001b[39m=\u001b[39m\u001b[39mself\u001b[39m\u001b[39m.\u001b[39mmodel\u001b[39m.\u001b[39myaml)\n",
      "File \u001b[1;32mc:\\Users\\Cp\\anaconda3\\envs\\chanchos\\Lib\\site-packages\\ultralytics\\engine\\trainer.py:122\u001b[0m, in \u001b[0;36mBaseTrainer.__init__\u001b[1;34m(self, cfg, overrides, _callbacks)\u001b[0m\n\u001b[0;32m    120\u001b[0m             \u001b[39mself\u001b[39m\u001b[39m.\u001b[39margs\u001b[39m.\u001b[39mdata \u001b[39m=\u001b[39m \u001b[39mself\u001b[39m\u001b[39m.\u001b[39mdata[\u001b[39m'\u001b[39m\u001b[39myaml_file\u001b[39m\u001b[39m'\u001b[39m]  \u001b[39m# for validating 'yolo train data=url.zip' usage\u001b[39;00m\n\u001b[0;32m    121\u001b[0m \u001b[39mexcept\u001b[39;00m \u001b[39mException\u001b[39;00m \u001b[39mas\u001b[39;00m e:\n\u001b[1;32m--> 122\u001b[0m     \u001b[39mraise\u001b[39;00m \u001b[39mRuntimeError\u001b[39;00m(emojis(\u001b[39mf\u001b[39m\u001b[39m\"\u001b[39m\u001b[39mDataset \u001b[39m\u001b[39m'\u001b[39m\u001b[39m{\u001b[39;00mclean_url(\u001b[39mself\u001b[39m\u001b[39m.\u001b[39margs\u001b[39m.\u001b[39mdata)\u001b[39m}\u001b[39;00m\u001b[39m'\u001b[39m\u001b[39m error ❌ \u001b[39m\u001b[39m{\u001b[39;00me\u001b[39m}\u001b[39;00m\u001b[39m\"\u001b[39m)) \u001b[39mfrom\u001b[39;00m \u001b[39me\u001b[39;00m\n\u001b[0;32m    124\u001b[0m \u001b[39mself\u001b[39m\u001b[39m.\u001b[39mtrainset, \u001b[39mself\u001b[39m\u001b[39m.\u001b[39mtestset \u001b[39m=\u001b[39m \u001b[39mself\u001b[39m\u001b[39m.\u001b[39mget_dataset(\u001b[39mself\u001b[39m\u001b[39m.\u001b[39mdata)\n\u001b[0;32m    125\u001b[0m \u001b[39mself\u001b[39m\u001b[39m.\u001b[39mema \u001b[39m=\u001b[39m \u001b[39mNone\u001b[39;00m\n",
      "\u001b[1;31mRuntimeError\u001b[0m: Dataset '../../../dataset/chanchos/yml/chanchos.yaml' error  \nDataset '../../../dataset/chanchos/yml/chanchos.yaml' images not found , missing path 'C:\\Users\\Cp\\Documents\\GitHub\\ChanchosDetection\\dataset\\chanchos\\dataset_for_head_and_rear_detection\\augmented\\annotated_ultralytics\\test_05.txt\\val_15.txt'\nNote dataset download directory is 'C:\\Users\\Cp\\Documents\\GitHub\\ChanchosDetection\\datasets'. You can update this in 'C:\\Users\\Cp\\AppData\\Roaming\\Ultralytics\\settings.yaml'"
     ]
    }
   ],
   "source": [
    "model.train(data=path_yaml, epochs=3)"
   ]
  },
  {
   "cell_type": "code",
   "execution_count": null,
   "id": "9ef38eec",
   "metadata": {},
   "outputs": [],
   "source": []
  }
 ],
 "metadata": {
  "kernelspec": {
   "display_name": "Python 3 (ipykernel)",
   "language": "python",
   "name": "python3"
  },
  "language_info": {
   "codemirror_mode": {
    "name": "ipython",
    "version": 3
   },
   "file_extension": ".py",
   "mimetype": "text/x-python",
   "name": "python",
   "nbconvert_exporter": "python",
   "pygments_lexer": "ipython3",
   "version": "3.11.4"
  }
 },
 "nbformat": 4,
 "nbformat_minor": 5
}
